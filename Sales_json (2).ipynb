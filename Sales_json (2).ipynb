{
  "nbformat": 4,
  "nbformat_minor": 0,
  "metadata": {
    "colab": {
      "name": "Sales.json",
      "provenance": []
    },
    "kernelspec": {
      "name": "python3",
      "display_name": "Python 3"
    },
    "language_info": {
      "name": "python"
    }
  },
  "cells": [
    {
      "cell_type": "code",
      "metadata": {
        "id": "gV5OKfnywqhJ"
      },
      "source": [
        "{\"1\":{\"prod_id\":\"003\",\"quant\":2,\"amount\":40},\"2\":{\"prod_id\":\"004\":,\"quant\":1,\"amount\":60},\"3\":{\"prod_id\":\"005\",\"quant\":1,\"amount\":70},\"4\":{\"prod_id\":006,\"quant\":4,\"amount\":40}}"
      ],
      "execution_count": null,
      "outputs": []
    }
  ]
}