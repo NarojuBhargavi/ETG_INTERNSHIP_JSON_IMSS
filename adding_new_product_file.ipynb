{
  "nbformat": 4,
  "nbformat_minor": 0,
  "metadata": {
    "colab": {
      "name": "adding new product file",
      "provenance": []
    },
    "kernelspec": {
      "name": "python3",
      "display_name": "Python 3"
    },
    "language_info": {
      "name": "python"
    }
  },
  "cells": [
    {
      "cell_type": "code",
      "metadata": {
        "id": "kq2YiEjY4nJX"
      },
      "source": [
        "  record ={\"001\" : {\"name\":\"kitkat\",\n",
        "                    \"quant\":40,\n",
        "                    \"price\":20,\n",
        "                    \"expiry\":\"3/9/2022\",\n",
        "                    \"brand\":\"nestle\"},\n",
        "           \"002\":  {\"name\":\"dairy milk\",\n",
        "                    \"quant\":50,\n",
        "                    \"price\":100, \n",
        "                    \"expiry\":\"27/8/2025\",\n",
        "                    \"brand\":\"cadbury\"},\n",
        "          \"003\":{\"name\":\"perk\",\n",
        "                 \"quant\":100,\n",
        "                 \"price\":20,\n",
        "                 \"expiry\":\"4/12/2023\",\n",
        "                 \"brand\":\"cadbury\"},\n",
        "          \"004\":{\"name\":\"sprite\",\n",
        "                 \"quant\":150,\n",
        "                 \"price\":60,\n",
        "                 \"expiry\":\"13/4/2025\",\n",
        "                 \"brand\":\"coco cola\"},\n",
        "          \"005\":{\"name\":\"thumbsup\",\n",
        "                 \"quant\":180,\n",
        "                 \"price\":70,\n",
        "                 \"expiry\":\"3/3/2024\",\n",
        "                 \"brand\":\"cola\"},\n",
        "          \"006\":{\"name\":\"good day\",\n",
        "                 \"quant\":100,\n",
        "                 \"price\":10,\n",
        "                 \"expiry\":\"15/7/2024\",\n",
        "                 \"brand\":\"britannia\"},\n",
        "          \"007\":{\"name\":\"marigold\",\n",
        "                 \"quant\":50,\n",
        "                 \"price\":15,\n",
        "                 \"expiry\":\"6/9/2022\",\n",
        "                 \"brand\":\"brittania\"},\n",
        "          \"008\":{\"name\":\"pale g\",\n",
        "                 \"quant\":200,\n",
        "                 \"price\":10,\n",
        "                 \"expiry\":\"15/9/2023\",\n",
        "                 \"brand\":\"parle g\"},\n",
        "          \"009\":{\"name\":\"pen\",\n",
        "                 \"quant\":36,\n",
        "                 \"price\":10,\n",
        "                 \"expiry\":\"6/8/2025\",\n",
        "                 \"brand\":\"cello\"},\n",
        "          \"010\":{\"name\":\"pencil\",\n",
        "                 \"quant\":50,\n",
        "                 \"price\":10,\n",
        "                 \"expiry\":\"3/9/2025\",\n",
        "                 \"brand\":\"natraj\"},\n",
        "          \"011\":{\"name\":\"scale\",\n",
        "                 \"quant\":100,\n",
        "                 \"price\":15,\n",
        "                 \"expiry\":\"3/9/2025\",\n",
        "                 \"brand\":\"camel\"},\n",
        "          \"012\":{\"name\":\"cryons\",\n",
        "                 \"quant\":20,\n",
        "                 \"price\":50,\n",
        "                 \"expiry\":\"24/9/2023\",\n",
        "                 \"brand\":\"faber castle\"},\n",
        "          \"013\":{\"name\":\"sketches\",\n",
        "                 \"quant\":50,\n",
        "                 \"price\":30,\n",
        "                 \"expiry\":\"13/7/2025\",\n",
        "                 \"brand\":\"camel\"},\n",
        "          \"014\":{\"name\":\"colgate\",\n",
        "                 \"quant\":160,\n",
        "                 \"price\":35,\n",
        "                 \"expiry\":\"3/2/2023\",\n",
        "                 \"brand\":\"colgate\"},\n",
        "          \"015\":{\"name\":\"pepsodent\",\n",
        "                 \"quant\":150,\n",
        "                 \"price\":40,\n",
        "                 \"expiry\":\"18/8/2023\",\n",
        "                 \"brand\":\"pepsodent\"},\n",
        "          \"016\":{\"name\":\"pathanjali neem soap\",\n",
        "                 \"quant\":80,\n",
        "                 \"price\":35,\n",
        "                 \"expiry\":\"3/4/2023\",\n",
        "                 \"brand\":\"pathanjali\"},\n",
        "          \"017\":{\"name\":\"surfexel\",\n",
        "                 \"quant\":140,\n",
        "                 \"price\":50,\n",
        "                 \"expiry\":\"3/9/2023\",\n",
        "                 \"brand\":\"unilever\"},\n",
        "          \"018\":{\"name\":\"rin\",\n",
        "                 \"quant\":67,\n",
        "                 \"price\":43,\n",
        "                 \"expiry\":\"3/9/2024\",\n",
        "                 \"brand\":\"unilever\"},\n",
        "          \"019\" :{\"name\":\"dove shampoo\",\n",
        "                 \"price\":20,\"019\" :{\"name\":\"dove shampoo\",\n",
        "                 \"quant\":70,\n",
        "                 \"price\":290,\n",
        "                 \"expiry\":\"28/7/2023\",\n",
        "                 \"brand\":\"dove\"},\n",
        "          \"020\":{\"name\":\"himalaya shampoo\",\n",
        "                 \"quant\":36,\n",
        "                 \"price\":150,\n",
        "                 \"expiry\":\"3/9/2025\",\n",
        "                 \"brand\":\"himalaya\"},\n",
        "          \"021\":{\"name\":\"karthika\",\n",
        "                 \"quant\":50,\n",
        "                 \"price\":48,\n",
        "                 \"expiry\":\"3/5/2022\",\n",
        "                 \"brand\":\"karthika\"},\n",
        "          \"022\":{\"name\":\"meera\",\n",
        "                 \"quant\":67,\n",
        "                 \"price\":190,\n",
        "                 \"expiry\":\"17/8/2022\",\n",
        "                 \"brand\":\"cavinkare\"},\n",
        "          \"023\":{\"name\":\"bingo chips\",\n",
        "                 \"quant\":100,\n",
        "                 \"price\":10,\n",
        "                 \"expiry\":\"4/7/2022\",\n",
        "                 \"brand\":\"itc limited\"},\n",
        "          \"025\":{\"name\":\"lay's\",\n",
        "                 \"quant\":87,\n",
        "                 \"expiry\":\"3/8/2022\",\n",
        "                 \"brand\":\"lays\"},\n",
        "          \"026\":{\"name\":\"kurkure\",\n",
        "                 \"quant\":200,\n",
        "                 \"price\":20,\n",
        "                 \"expiry\":\"3/9/2025\",\n",
        "                 \"brand\":\"corn puffs\"},\n",
        "          \"027\":{\"name\":\"bread\",\n",
        "                 \"quant\":50,\n",
        "                 \"price\":40,\n",
        "                 \"expiry\":\"3/3/2023\",\n",
        "                 \"brand\":\"arnold\"},\n",
        "          \"028\":{\"name\":\"tooth brush\",\n",
        "                 \"quant\":350,\n",
        "                 \"price\":20,\n",
        "                 \"expiry\":\"3/9/2026\",\n",
        "                 \"brand\":\"oral b\"},\n",
        "          \"029\":{\"name\":\"heritage milk\",\n",
        "                 \"quant\":100,\n",
        "                 \"price\":35,\n",
        "                 \"expiry\":\"17/9/2022\",\n",
        "                 \"brand\":\"heritage\"},\n",
        "          \"030\":{\"name\":\"jercy milk\",\n",
        "                 \"quant\":50,\n",
        "                 \"price\":28,\n",
        "                 \"expiry\":\"19/9/2022\",\n",
        "                 \"brand\":\"jercy\"},\n",
        "          \"031\":{\"name\":\"masquti curd\",\n",
        "                 \"quant\":36,\n",
        "                 \"price\":20,\n",
        "                 \"expiry\":\"3/9/2022\",\n",
        "                 \"brand\":\"masquti\"},\n",
        "          \"032\":{\"name\":\"vennela ice cream\",\n",
        "                 \"quant\":30,\n",
        "                 \"price\":40,\n",
        "                 \"expiry\":\"28/9/2022\",\n",
        "                 \"brand\":\"cream bell\"},\n",
        "          \"033\":{\"name\":\"choclate ice cream\",\n",
        "                 \"quant\":20,\n",
        "                 \"price\":50,\n",
        "                 \"expiry\":\"15/9/2022\",\n",
        "                 \"brand\":\"amul\"},\n",
        "          \"034\":{\"name\":\"butterscotch ice cream\",\n",
        "                 \"quant\":50,\n",
        "                 \"price\":25,\n",
        "                 \"expiry\":\"3/6/2023\",\n",
        "                 \"brand\":\"cream bell\"},\n",
        "          \"035\":{\"name\":\"oreo ice cream\",\n",
        "                 \"quant\":10,\n",
        "                 \"price\":30,\n",
        "                 \"expiry\":\"14/7/2022\",\n",
        "                 \"brand\":\"amul\"}  \n",
        "}                                                                                                                                                          \n",
        "\n",
        "\n",
        "\n",
        "\n",
        "\n",
        "\n",
        "\n"
      ],
      "execution_count": null,
      "outputs": []
    },
    {
      "cell_type": "code",
      "metadata": {
        "colab": {
          "base_uri": "https://localhost:8080/"
        },
        "id": "Lwp4waM2TIk_",
        "outputId": "9c401532-847b-4d8b-8bab-98f13779287c"
      },
      "source": [
        "type(record)"
      ],
      "execution_count": null,
      "outputs": [
        {
          "output_type": "execute_result",
          "data": {
            "text/plain": [
              "dict"
            ]
          },
          "metadata": {},
          "execution_count": 22
        }
      ]
    },
    {
      "cell_type": "markdown",
      "metadata": {
        "id": "2QJ6XRBDTRaM"
      },
      "source": [
        "**creating records.json and dumpimg this dict into it**"
      ]
    },
    {
      "cell_type": "code",
      "metadata": {
        "id": "wRSK9-jrTdXR"
      },
      "source": [
        "import json\n"
      ],
      "execution_count": null,
      "outputs": []
    },
    {
      "cell_type": "code",
      "metadata": {
        "id": "yUG0DP0ETiIQ"
      },
      "source": [
        "js=json.dumps(record)\n",
        "fd = open (\"record.json\",\"w\")\n",
        "fd.write(js)\n",
        "fd.close()"
      ],
      "execution_count": null,
      "outputs": []
    },
    {
      "cell_type": "code",
      "metadata": {
        "colab": {
          "base_uri": "https://localhost:8080/"
        },
        "id": "7IMPTJHuTeAd",
        "outputId": "e28caab0-e1e6-4940-a055-44259be029cc"
      },
      "source": [
        "len(record)"
      ],
      "execution_count": null,
      "outputs": [
        {
          "output_type": "execute_result",
          "data": {
            "text/plain": [
              "34"
            ]
          },
          "metadata": {},
          "execution_count": 28
        }
      ]
    },
    {
      "cell_type": "markdown",
      "metadata": {
        "id": "QIPjXqmjUV9K"
      },
      "source": [
        "# ** Adding new element to inventory **"
      ]
    },
    {
      "cell_type": "code",
      "metadata": {
        "colab": {
          "base_uri": "https://localhost:8080/"
        },
        "id": "RxsZAGVQTQfu",
        "outputId": "acc23975-2b2a-408c-dcd0-b8b5c73b0b51"
      },
      "source": [
        "prod_id = str(input(\"Enter the product id:\"))\n",
        "name = str(input(\"Enter the name:\"))\n",
        "quant = int(input(\"Enter quantity:\"))\n",
        "price = int(input(\"Enter price:\"))\n",
        "expiry = input(\"Enter expiry:\")\n",
        "brand = input(\"Enter brand:\")\n",
        "\n",
        "record[prod_id] = {\"name\":name,\"price\":price,\"quant\":quant,\"expiry\":expiry,\"brand\":brand}\n",
        "\n"
      ],
      "execution_count": null,
      "outputs": [
        {
          "name": "stdout",
          "output_type": "stream",
          "text": [
            "Enter the product id:003\n",
            "Enter the name:perk\n",
            "Enter quantity:100\n",
            "Enter price:20\n",
            "Enter expiry:4/12/2023\n",
            "Enter brand:cadbury\n"
          ]
        }
      ]
    },
    {
      "cell_type": "markdown",
      "metadata": {
        "id": "BaPJVtApYjHS"
      },
      "source": [
        "**Loading the previous records**"
      ]
    },
    {
      "cell_type": "code",
      "metadata": {
        "id": "GDo3696RYh9p"
      },
      "source": [
        "fd = open(\"record.json\",\"r\")\n",
        "js = fd.read()\n",
        "fd.close()\n",
        "\n",
        "record = json.loads(js)"
      ],
      "execution_count": null,
      "outputs": []
    },
    {
      "cell_type": "code",
      "metadata": {
        "colab": {
          "base_uri": "https://localhost:8080/"
        },
        "id": "ENLwJW8IZLD_",
        "outputId": "8d8b69f6-72b3-40fa-b258-39e636e111a1"
      },
      "source": [
        "record[prod_id]"
      ],
      "execution_count": null,
      "outputs": [
        {
          "output_type": "execute_result",
          "data": {
            "text/plain": [
              "{'brand': 'cadbury',\n",
              " 'expiry': '4/12/2023',\n",
              " 'name': 'perk',\n",
              " 'price': 20,\n",
              " 'quant': 100}"
            ]
          },
          "metadata": {},
          "execution_count": 41
        }
      ]
    },
    {
      "cell_type": "code",
      "metadata": {
        "colab": {
          "base_uri": "https://localhost:8080/"
        },
        "id": "BuMFKPzQQQ-A",
        "outputId": "76df0e70-799c-4d5d-9576-7a3f5a4c735d"
      },
      "source": [
        "type(record)"
      ],
      "execution_count": null,
      "outputs": [
        {
          "output_type": "execute_result",
          "data": {
            "text/plain": [
              "dict"
            ]
          },
          "metadata": {},
          "execution_count": 43
        }
      ]
    },
    {
      "cell_type": "code",
      "metadata": {
        "id": "NUCYV1UQbFwV"
      },
      "source": [
        "js = json.dumps(record)\n",
        "fd =open(\"records.json\",\"w\")\n",
        "fd.write(js)\n",
        "fd.close() "
      ],
      "execution_count": null,
      "outputs": []
    },
    {
      "cell_type": "code",
      "metadata": {
        "id": "IRl8qBRIahZb"
      },
      "source": [
        ""
      ],
      "execution_count": null,
      "outputs": []
    }
  ]
}